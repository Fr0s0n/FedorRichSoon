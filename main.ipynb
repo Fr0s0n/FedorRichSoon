{
 "cells": [
  {
   "cell_type": "code",
   "execution_count": null,
   "id": "728cb9d6",
   "metadata": {
    "vscode": {
     "languageId": "plaintext"
    }
   },
   "outputs": [],
   "source": [
    "from typing import Final\n",
    "from telegram import Update\n",
    "from telegram.ext import Application, CommandHandler, MessageHandler, filters, ContextTypes \n",
    "   \n",
    "TOKEN: Final = '7881637545:AAHQastnttKhpeS1zjUC0Rt5egrZ1CPEhTc'\n",
    "BOT_USERNAME: Final = 'TheUltimatePlannerBot\""
   ]
  },
  {
   "cell_type": "code",
   "execution_count": null,
   "id": "92889f46",
   "metadata": {
    "vscode": {
     "languageId": "plaintext"
    }
   },
   "outputs": [],
   "source": []
  }
 ],
 "metadata": {
  "language_info": {
   "name": "python"
  }
 },
 "nbformat": 4,
 "nbformat_minor": 5
}
